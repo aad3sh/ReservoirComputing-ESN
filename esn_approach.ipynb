{
 "cells": [
  {
   "cell_type": "code",
   "execution_count": 2,
   "metadata": {},
   "outputs": [
    {
     "name": "stderr",
     "output_type": "stream",
     "text": [
      "Using TensorFlow backend.\n"
     ]
    }
   ],
   "source": [
    "import numpy as np\n",
    "import matplotlib.pyplot as plt\n",
    "import pandas as pd\n",
    "from pandas import datetime\n",
    "import math, time\n",
    "import itertools\n",
    "from sklearn import preprocessing\n",
    "import datetime\n",
    "from operator import itemgetter\n",
    "from sklearn.metrics import mean_squared_error\n",
    "from math import sqrt\n",
    "from keras.models import Sequential\n",
    "from keras.layers.core import Dense, Dropout, Activation\n",
    "from keras.layers.recurrent import LSTM\n",
    "from keras.models import load_model\n",
    "import keras\n",
    "from keras.utils.vis_utils import plot_model"
   ]
  },
  {
   "cell_type": "code",
   "execution_count": 3,
   "metadata": {},
   "outputs": [],
   "source": [
    "import warnings\n",
    "warnings.filterwarnings('ignore')\n",
    "from pyESN import ESN # got it from: https://github.com/cknd/pyESN\n",
    "%matplotlib inline"
   ]
  },
  {
   "cell_type": "code",
   "execution_count": 4,
   "metadata": {},
   "outputs": [
    {
     "data": {
      "text/html": [
       "<div>\n",
       "<style scoped>\n",
       "    .dataframe tbody tr th:only-of-type {\n",
       "        vertical-align: middle;\n",
       "    }\n",
       "\n",
       "    .dataframe tbody tr th {\n",
       "        vertical-align: top;\n",
       "    }\n",
       "\n",
       "    .dataframe thead th {\n",
       "        text-align: right;\n",
       "    }\n",
       "</style>\n",
       "<table border=\"1\" class=\"dataframe\">\n",
       "  <thead>\n",
       "    <tr style=\"text-align: right;\">\n",
       "      <th></th>\n",
       "      <th>symbol</th>\n",
       "      <th>open</th>\n",
       "      <th>low</th>\n",
       "      <th>high</th>\n",
       "      <th>volume</th>\n",
       "      <th>adj close</th>\n",
       "    </tr>\n",
       "    <tr>\n",
       "      <th>date</th>\n",
       "      <th></th>\n",
       "      <th></th>\n",
       "      <th></th>\n",
       "      <th></th>\n",
       "      <th></th>\n",
       "      <th></th>\n",
       "    </tr>\n",
       "  </thead>\n",
       "  <tbody>\n",
       "    <tr>\n",
       "      <th>2016-01-05 00:00:00</th>\n",
       "      <td>WLTW</td>\n",
       "      <td>123.430000</td>\n",
       "      <td>122.309998</td>\n",
       "      <td>126.250000</td>\n",
       "      <td>2163600.0</td>\n",
       "      <td>125.839996</td>\n",
       "    </tr>\n",
       "    <tr>\n",
       "      <th>2016-01-06 00:00:00</th>\n",
       "      <td>WLTW</td>\n",
       "      <td>125.239998</td>\n",
       "      <td>119.940002</td>\n",
       "      <td>125.540001</td>\n",
       "      <td>2386400.0</td>\n",
       "      <td>119.980003</td>\n",
       "    </tr>\n",
       "    <tr>\n",
       "      <th>2016-01-07 00:00:00</th>\n",
       "      <td>WLTW</td>\n",
       "      <td>116.379997</td>\n",
       "      <td>114.930000</td>\n",
       "      <td>119.739998</td>\n",
       "      <td>2489500.0</td>\n",
       "      <td>114.949997</td>\n",
       "    </tr>\n",
       "    <tr>\n",
       "      <th>2016-01-08 00:00:00</th>\n",
       "      <td>WLTW</td>\n",
       "      <td>115.480003</td>\n",
       "      <td>113.500000</td>\n",
       "      <td>117.440002</td>\n",
       "      <td>2006300.0</td>\n",
       "      <td>116.620003</td>\n",
       "    </tr>\n",
       "    <tr>\n",
       "      <th>2016-01-11 00:00:00</th>\n",
       "      <td>WLTW</td>\n",
       "      <td>117.010002</td>\n",
       "      <td>114.089996</td>\n",
       "      <td>117.330002</td>\n",
       "      <td>1408600.0</td>\n",
       "      <td>114.970001</td>\n",
       "    </tr>\n",
       "  </tbody>\n",
       "</table>\n",
       "</div>"
      ],
      "text/plain": [
       "                    symbol        open         low        high     volume  \\\n",
       "date                                                                        \n",
       "2016-01-05 00:00:00   WLTW  123.430000  122.309998  126.250000  2163600.0   \n",
       "2016-01-06 00:00:00   WLTW  125.239998  119.940002  125.540001  2386400.0   \n",
       "2016-01-07 00:00:00   WLTW  116.379997  114.930000  119.739998  2489500.0   \n",
       "2016-01-08 00:00:00   WLTW  115.480003  113.500000  117.440002  2006300.0   \n",
       "2016-01-11 00:00:00   WLTW  117.010002  114.089996  117.330002  1408600.0   \n",
       "\n",
       "                      adj close  \n",
       "date                             \n",
       "2016-01-05 00:00:00  125.839996  \n",
       "2016-01-06 00:00:00  119.980003  \n",
       "2016-01-07 00:00:00  114.949997  \n",
       "2016-01-08 00:00:00  116.620003  \n",
       "2016-01-11 00:00:00  114.970001  "
      ]
     },
     "execution_count": 4,
     "metadata": {},
     "output_type": "execute_result"
    }
   ],
   "source": [
    "df = pd.read_csv(\"prices.csv\", index_col = 0)\n",
    "df[\"adj close\"] = df.close\n",
    "df.drop(['close'], 1, inplace=True)\n",
    "df.head()"
   ]
  },
  {
   "cell_type": "code",
   "execution_count": 5,
   "metadata": {},
   "outputs": [
    {
     "data": {
      "text/html": [
       "<div>\n",
       "<style scoped>\n",
       "    .dataframe tbody tr th:only-of-type {\n",
       "        vertical-align: middle;\n",
       "    }\n",
       "\n",
       "    .dataframe tbody tr th {\n",
       "        vertical-align: top;\n",
       "    }\n",
       "\n",
       "    .dataframe thead th {\n",
       "        text-align: right;\n",
       "    }\n",
       "</style>\n",
       "<table border=\"1\" class=\"dataframe\">\n",
       "  <thead>\n",
       "    <tr style=\"text-align: right;\">\n",
       "      <th></th>\n",
       "      <th>open</th>\n",
       "      <th>low</th>\n",
       "      <th>high</th>\n",
       "      <th>volume</th>\n",
       "      <th>adj close</th>\n",
       "    </tr>\n",
       "    <tr>\n",
       "      <th>date</th>\n",
       "      <th></th>\n",
       "      <th></th>\n",
       "      <th></th>\n",
       "      <th></th>\n",
       "      <th></th>\n",
       "    </tr>\n",
       "  </thead>\n",
       "  <tbody>\n",
       "    <tr>\n",
       "      <th>2010-01-04</th>\n",
       "      <td>30.620001</td>\n",
       "      <td>30.590000</td>\n",
       "      <td>31.100000</td>\n",
       "      <td>38409100.0</td>\n",
       "      <td>30.950001</td>\n",
       "    </tr>\n",
       "    <tr>\n",
       "      <th>2010-01-05</th>\n",
       "      <td>30.850000</td>\n",
       "      <td>30.639999</td>\n",
       "      <td>31.100000</td>\n",
       "      <td>49749600.0</td>\n",
       "      <td>30.959999</td>\n",
       "    </tr>\n",
       "    <tr>\n",
       "      <th>2010-01-06</th>\n",
       "      <td>30.879999</td>\n",
       "      <td>30.520000</td>\n",
       "      <td>31.080000</td>\n",
       "      <td>58182400.0</td>\n",
       "      <td>30.770000</td>\n",
       "    </tr>\n",
       "    <tr>\n",
       "      <th>2010-01-07</th>\n",
       "      <td>30.629999</td>\n",
       "      <td>30.190001</td>\n",
       "      <td>30.700001</td>\n",
       "      <td>50559700.0</td>\n",
       "      <td>30.450001</td>\n",
       "    </tr>\n",
       "    <tr>\n",
       "      <th>2010-01-08</th>\n",
       "      <td>30.280001</td>\n",
       "      <td>30.240000</td>\n",
       "      <td>30.879999</td>\n",
       "      <td>51197400.0</td>\n",
       "      <td>30.660000</td>\n",
       "    </tr>\n",
       "  </tbody>\n",
       "</table>\n",
       "</div>"
      ],
      "text/plain": [
       "                 open        low       high      volume  adj close\n",
       "date                                                              \n",
       "2010-01-04  30.620001  30.590000  31.100000  38409100.0  30.950001\n",
       "2010-01-05  30.850000  30.639999  31.100000  49749600.0  30.959999\n",
       "2010-01-06  30.879999  30.520000  31.080000  58182400.0  30.770000\n",
       "2010-01-07  30.629999  30.190001  30.700001  50559700.0  30.450001\n",
       "2010-01-08  30.280001  30.240000  30.879999  51197400.0  30.660000"
      ]
     },
     "execution_count": 5,
     "metadata": {},
     "output_type": "execute_result"
    }
   ],
   "source": [
    "symbols = list(set(df.symbol))\n",
    "df = df[df.symbol == 'MSFT']\n",
    "df.drop(['symbol'],1,inplace=True)\n",
    "df.head()"
   ]
  },
  {
   "cell_type": "code",
   "execution_count": 6,
   "metadata": {},
   "outputs": [],
   "source": [
    "data=df.loc[:,['adj close']]"
   ]
  },
  {
   "cell_type": "code",
   "execution_count": 7,
   "metadata": {},
   "outputs": [
    {
     "data": {
      "text/plain": [
       "1762"
      ]
     },
     "execution_count": 7,
     "metadata": {},
     "output_type": "execute_result"
    }
   ],
   "source": [
    "len(data)"
   ]
  },
  {
   "cell_type": "code",
   "execution_count": 8,
   "metadata": {},
   "outputs": [],
   "source": [
    "data=np.array(data)"
   ]
  },
  {
   "cell_type": "code",
   "execution_count": 9,
   "metadata": {},
   "outputs": [],
   "source": [
    "n_reservoir= 500\n",
    "sparsity=0.2\n",
    "rand_seed=23\n",
    "spectral_radius = 0.8\n",
    "noise = .0005\n",
    "\n",
    "\n",
    "esn = ESN(n_inputs = 1,\n",
    "      n_outputs = 1, \n",
    "      n_reservoir = n_reservoir,\n",
    "      sparsity=sparsity,\n",
    "      random_state=rand_seed,\n",
    "      spectral_radius = spectral_radius,\n",
    "      noise=noise)\n",
    "\n",
    "trainlen = 1400\n",
    "future = 10\n",
    "futureTotal=360\n",
    "pred_tot=np.zeros(futureTotal)"
   ]
  },
  {
   "cell_type": "code",
   "execution_count": 10,
   "metadata": {},
   "outputs": [],
   "source": [
    "for i in range(0,futureTotal,future):\n",
    "    pred_training = esn.fit(np.ones(trainlen),data[i:trainlen+i])\n",
    "    prediction = esn.predict(np.ones(future))\n",
    "    pred_tot[i:i+future] = prediction[:,0]"
   ]
  },
  {
   "cell_type": "code",
   "execution_count": 11,
   "metadata": {},
   "outputs": [
    {
     "data": {
      "image/png": "[encoded data removed]",
      "text/plain": [
       "<Figure size 432x288 with 1 Axes>"
      ]
     },
     "metadata": {
      "needs_background": "light"
     },
     "output_type": "display_data"
    }
   ],
   "source": [
    "import seaborn as sns\n",
    "plt.plot(range(1000,trainlen+futureTotal),data[1000:trainlen+futureTotal],'b',label=\"Data\",color='red')\n",
    "plt.plot(range(trainlen,trainlen+futureTotal),pred_tot,'k',  alpha=0.8, label='Prediction via ESN',color='blue')\n",
    "lo,hi = plt.ylim()\n",
    "plt.plot([trainlen,trainlen],[lo+np.spacing(1),hi-np.spacing(1)],'k:', linewidth=4)\n",
    "plt.title(r'Ground Truth vs Echo State Network Output', fontsize=14)\n",
    "plt.xlabel(r'Time (Days) as index', fontsize=10,labelpad=10)\n",
    "plt.ylabel(r'Prices', fontsize=10,labelpad=10)\n",
    "plt.legend(fontsize='large', loc='best')\n",
    "sns.despine()"
   ]
  },
  {
   "cell_type": "code",
   "execution_count": 12,
   "metadata": {},
   "outputs": [
    {
     "data": {
      "image/png": "[encoded data removed]",
      "text/plain": [
       "<Figure size 432x288 with 1 Axes>"
      ]
     },
     "metadata": {
      "needs_background": "light"
     },
     "output_type": "display_data"
    }
   ],
   "source": [
    "import seaborn as sns\n",
    "plt.plot(range(1585,trainlen+futureTotal),data[1585:trainlen+futureTotal],'b',label=\"Actual\",color='red')\n",
    "plt.plot(range(1585,trainlen+futureTotal),pred_tot[185:],'k',  alpha=0.8, label='Prediction via ESN',color='blue')\n",
    "lo,hi = plt.ylim()\n",
    "plt.plot([1585,1585],[lo+np.spacing(1),hi-np.spacing(1)],'k:', linewidth=4)\n",
    "plt.xlabel(r'Time (Days) as index', fontsize=10,labelpad=10)\n",
    "plt.ylabel(r'Prices', fontsize=10,labelpad=10)\n",
    "plt.legend(fontsize='large', loc='best')\n",
    "sns.despine()"
   ]
  },
  {
   "cell_type": "code",
   "execution_count": 13,
   "metadata": {},
   "outputs": [
    {
     "data": {
      "text/plain": [
       "<pyESN.ESN at 0x1d08374f948>"
      ]
     },
     "execution_count": 13,
     "metadata": {},
     "output_type": "execute_result"
    }
   ],
   "source": [
    "esn"
   ]
  },
  {
   "cell_type": "code",
   "execution_count": 14,
   "metadata": {},
   "outputs": [],
   "source": [
    "def MSE(yhat, y):\n",
    "    return np.sqrt(np.mean((yhat.flatten() - y)**2))"
   ]
  },
  {
   "cell_type": "code",
   "execution_count": null,
   "metadata": {},
   "outputs": [],
   "source": [
    "n_reservoir= 500\n",
    "sparsity   = 0.2\n",
    "rand_seed  = 23\n",
    "radius_set = [0.9,  1,  1.1]\n",
    "noise_set = [ 0.001, 0.004, 0.006]\n",
    "radius_set = [0.5, 0.7, 0.9,  1,  1.1,1.3,1.5]\n",
    "noise_set = [ 0.0001, 0.0003,0.0007, 0.001, 0.003, 0.005, 0.007,0.01]\n",
    "radius_set_size  = len(radius_set)\n",
    "noise_set_size = len(noise_set)\n",
    "trainlen = 1400\n",
    "future = 2\n",
    "futureTotal= 360\n",
    "loss = np.zeros([radius_set_size, noise_set_size])\n",
    "for l in range(radius_set_size):\n",
    "    rho = radius_set[l]\n",
    "    for j in range(noise_set_size):\n",
    "        noise = noise_set[j]\n",
    "\n",
    "        pred_tot=np.zeros(futureTotal)\n",
    "\n",
    "        esn = ESN(n_inputs = 1,\n",
    "          n_outputs = 1, \n",
    "          n_reservoir = n_reservoir,\n",
    "          sparsity=sparsity,\n",
    "          random_state=rand_seed,\n",
    "          spectral_radius = rho,\n",
    "          noise=noise)\n",
    "\n",
    "        for i in range(0,futureTotal,future):\n",
    "            pred_training = esn.fit(np.ones(trainlen),data[i:trainlen+i])\n",
    "            prediction = esn.predict(np.ones(future))\n",
    "            pred_tot[i:i+future] = prediction[:,0]\n",
    "        \n",
    "        loss[l, j] = MSE(pred_tot, data[trainlen:trainlen+futureTotal])        "
   ]
  },
  {
   "cell_type": "code",
   "execution_count": 121,
   "metadata": {},
   "outputs": [
    {
     "name": "stdout",
     "output_type": "stream",
     "text": [
      "The optimal set is:\n",
      "spectrum radius =  1 \n",
      "noise =  0.01 \n",
      "MSE =  6.843724780698345\n"
     ]
    }
   ],
   "source": [
    "minLoss = np.min(loss)\n",
    "index_min = np.where(loss == minLoss)\n",
    "index_min\n",
    "rho_opt = radius_set[int(index_min[0])]\n",
    "noise_opt = noise_set[int(index_min[1])]\n",
    "print('The optimal set is:\\nspectrum radius = ',\n",
    "      rho_opt,'\\nnoise = ',noise_opt,'\\nMSE = ',minLoss)"
   ]
  },
  {
   "cell_type": "code",
   "execution_count": 124,
   "metadata": {},
   "outputs": [
    {
     "name": "stdout",
     "output_type": "stream",
     "text": [
      "0.9290683479823375\n"
     ]
    }
   ],
   "source": [
    "from sklearn.metrics import r2_score\n",
    "print(r2_score(pred_tot[185:],data[1585:trainlen+futureTotal]))"
   ]
  }
 ],
 "metadata": {
  "kernelspec": {
   "display_name": "Python 3",
   "language": "python",
   "name": "python3"
  },
  "language_info": {
   "codemirror_mode": {
    "name": "ipython",
    "version": 3
   },
   "file_extension": ".py",
   "mimetype": "text/x-python",
   "name": "python",
   "nbconvert_exporter": "python",
   "pygments_lexer": "ipython3",
   "version": "3.7.4"
  }
 },
 "nbformat": 4,
 "nbformat_minor": 2
}
