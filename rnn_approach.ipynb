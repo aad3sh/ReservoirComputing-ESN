{
 "cells": [
  {
   "cell_type": "code",
   "execution_count": 1,
   "metadata": {},
   "outputs": [
    {
     "name": "stderr",
     "output_type": "stream",
     "text": [
      "Using TensorFlow backend.\n"
     ]
    }
   ],
   "source": [
    "import numpy as np\n",
    "import matplotlib.pyplot as plt\n",
    "import pandas as pd\n",
    "from pandas import datetime\n",
    "import math, time\n",
    "import itertools\n",
    "from sklearn import preprocessing\n",
    "import datetime\n",
    "from operator import itemgetter\n",
    "from sklearn.metrics import mean_squared_error\n",
    "from math import sqrt\n",
    "from keras.models import Sequential\n",
    "from keras.layers.core import Dense, Dropout, Activation\n",
    "from keras.layers.recurrent import LSTM\n",
    "from keras.models import load_model\n",
    "import keras\n",
    "from keras.utils.vis_utils import plot_model\n",
    "from sklearn.metrics import r2_score"
   ]
  },
  {
   "cell_type": "code",
   "execution_count": 7,
   "metadata": {},
   "outputs": [
    {
     "data": {
      "text/html": [
       "<div>\n",
       "<style scoped>\n",
       "    .dataframe tbody tr th:only-of-type {\n",
       "        vertical-align: middle;\n",
       "    }\n",
       "\n",
       "    .dataframe tbody tr th {\n",
       "        vertical-align: top;\n",
       "    }\n",
       "\n",
       "    .dataframe thead th {\n",
       "        text-align: right;\n",
       "    }\n",
       "</style>\n",
       "<table border=\"1\" class=\"dataframe\">\n",
       "  <thead>\n",
       "    <tr style=\"text-align: right;\">\n",
       "      <th></th>\n",
       "      <th>symbol</th>\n",
       "      <th>open</th>\n",
       "      <th>low</th>\n",
       "      <th>high</th>\n",
       "      <th>volume</th>\n",
       "      <th>adj close</th>\n",
       "    </tr>\n",
       "    <tr>\n",
       "      <th>date</th>\n",
       "      <th></th>\n",
       "      <th></th>\n",
       "      <th></th>\n",
       "      <th></th>\n",
       "      <th></th>\n",
       "      <th></th>\n",
       "    </tr>\n",
       "  </thead>\n",
       "  <tbody>\n",
       "    <tr>\n",
       "      <th>2016-01-05 00:00:00</th>\n",
       "      <td>WLTW</td>\n",
       "      <td>123.430000</td>\n",
       "      <td>122.309998</td>\n",
       "      <td>126.250000</td>\n",
       "      <td>2163600.0</td>\n",
       "      <td>125.839996</td>\n",
       "    </tr>\n",
       "    <tr>\n",
       "      <th>2016-01-06 00:00:00</th>\n",
       "      <td>WLTW</td>\n",
       "      <td>125.239998</td>\n",
       "      <td>119.940002</td>\n",
       "      <td>125.540001</td>\n",
       "      <td>2386400.0</td>\n",
       "      <td>119.980003</td>\n",
       "    </tr>\n",
       "    <tr>\n",
       "      <th>2016-01-07 00:00:00</th>\n",
       "      <td>WLTW</td>\n",
       "      <td>116.379997</td>\n",
       "      <td>114.930000</td>\n",
       "      <td>119.739998</td>\n",
       "      <td>2489500.0</td>\n",
       "      <td>114.949997</td>\n",
       "    </tr>\n",
       "    <tr>\n",
       "      <th>2016-01-08 00:00:00</th>\n",
       "      <td>WLTW</td>\n",
       "      <td>115.480003</td>\n",
       "      <td>113.500000</td>\n",
       "      <td>117.440002</td>\n",
       "      <td>2006300.0</td>\n",
       "      <td>116.620003</td>\n",
       "    </tr>\n",
       "    <tr>\n",
       "      <th>2016-01-11 00:00:00</th>\n",
       "      <td>WLTW</td>\n",
       "      <td>117.010002</td>\n",
       "      <td>114.089996</td>\n",
       "      <td>117.330002</td>\n",
       "      <td>1408600.0</td>\n",
       "      <td>114.970001</td>\n",
       "    </tr>\n",
       "  </tbody>\n",
       "</table>\n",
       "</div>"
      ],
      "text/plain": [
       "                    symbol        open         low        high     volume  \\\n",
       "date                                                                        \n",
       "2016-01-05 00:00:00   WLTW  123.430000  122.309998  126.250000  2163600.0   \n",
       "2016-01-06 00:00:00   WLTW  125.239998  119.940002  125.540001  2386400.0   \n",
       "2016-01-07 00:00:00   WLTW  116.379997  114.930000  119.739998  2489500.0   \n",
       "2016-01-08 00:00:00   WLTW  115.480003  113.500000  117.440002  2006300.0   \n",
       "2016-01-11 00:00:00   WLTW  117.010002  114.089996  117.330002  1408600.0   \n",
       "\n",
       "                      adj close  \n",
       "date                             \n",
       "2016-01-05 00:00:00  125.839996  \n",
       "2016-01-06 00:00:00  119.980003  \n",
       "2016-01-07 00:00:00  114.949997  \n",
       "2016-01-08 00:00:00  116.620003  \n",
       "2016-01-11 00:00:00  114.970001  "
      ]
     },
     "execution_count": 7,
     "metadata": {},
     "output_type": "execute_result"
    }
   ],
   "source": [
    "df = pd.read_csv(\"prices.csv\", index_col = 0)\n",
    "df[\"adj close\"] = df.close \n",
    "df.drop(['close'], 1, inplace=True) \n",
    "df.head()"
   ]
  },
  {
   "cell_type": "code",
   "execution_count": 8,
   "metadata": {},
   "outputs": [
    {
     "data": {
      "text/plain": [
       "501"
      ]
     },
     "execution_count": 8,
     "metadata": {},
     "output_type": "execute_result"
    }
   ],
   "source": [
    "symbols = list(set(df.symbol))\n",
    "len(symbols)"
   ]
  },
  {
   "cell_type": "code",
   "execution_count": 5,
   "metadata": {},
   "outputs": [
    {
     "data": {
      "text/html": [
       "<div>\n",
       "<style scoped>\n",
       "    .dataframe tbody tr th:only-of-type {\n",
       "        vertical-align: middle;\n",
       "    }\n",
       "\n",
       "    .dataframe tbody tr th {\n",
       "        vertical-align: top;\n",
       "    }\n",
       "\n",
       "    .dataframe thead th {\n",
       "        text-align: right;\n",
       "    }\n",
       "</style>\n",
       "<table border=\"1\" class=\"dataframe\">\n",
       "  <thead>\n",
       "    <tr style=\"text-align: right;\">\n",
       "      <th></th>\n",
       "      <th>open</th>\n",
       "      <th>low</th>\n",
       "      <th>high</th>\n",
       "      <th>volume</th>\n",
       "      <th>adj close</th>\n",
       "    </tr>\n",
       "    <tr>\n",
       "      <th>date</th>\n",
       "      <th></th>\n",
       "      <th></th>\n",
       "      <th></th>\n",
       "      <th></th>\n",
       "      <th></th>\n",
       "    </tr>\n",
       "  </thead>\n",
       "  <tbody>\n",
       "    <tr>\n",
       "      <th>2010-01-04</th>\n",
       "      <td>30.620001</td>\n",
       "      <td>30.590000</td>\n",
       "      <td>31.100000</td>\n",
       "      <td>38409100.0</td>\n",
       "      <td>30.950001</td>\n",
       "    </tr>\n",
       "    <tr>\n",
       "      <th>2010-01-05</th>\n",
       "      <td>30.850000</td>\n",
       "      <td>30.639999</td>\n",
       "      <td>31.100000</td>\n",
       "      <td>49749600.0</td>\n",
       "      <td>30.959999</td>\n",
       "    </tr>\n",
       "    <tr>\n",
       "      <th>2010-01-06</th>\n",
       "      <td>30.879999</td>\n",
       "      <td>30.520000</td>\n",
       "      <td>31.080000</td>\n",
       "      <td>58182400.0</td>\n",
       "      <td>30.770000</td>\n",
       "    </tr>\n",
       "    <tr>\n",
       "      <th>2010-01-07</th>\n",
       "      <td>30.629999</td>\n",
       "      <td>30.190001</td>\n",
       "      <td>30.700001</td>\n",
       "      <td>50559700.0</td>\n",
       "      <td>30.450001</td>\n",
       "    </tr>\n",
       "    <tr>\n",
       "      <th>2010-01-08</th>\n",
       "      <td>30.280001</td>\n",
       "      <td>30.240000</td>\n",
       "      <td>30.879999</td>\n",
       "      <td>51197400.0</td>\n",
       "      <td>30.660000</td>\n",
       "    </tr>\n",
       "  </tbody>\n",
       "</table>\n",
       "</div>"
      ],
      "text/plain": [
       "                 open        low       high      volume  adj close\n",
       "date                                                              \n",
       "2010-01-04  30.620001  30.590000  31.100000  38409100.0  30.950001\n",
       "2010-01-05  30.850000  30.639999  31.100000  49749600.0  30.959999\n",
       "2010-01-06  30.879999  30.520000  31.080000  58182400.0  30.770000\n",
       "2010-01-07  30.629999  30.190001  30.700001  50559700.0  30.450001\n",
       "2010-01-08  30.280001  30.240000  30.879999  51197400.0  30.660000"
      ]
     },
     "execution_count": 5,
     "metadata": {},
     "output_type": "execute_result"
    }
   ],
   "source": [
    "symbols = list(set(df.symbol))\n",
    "df = df[df.symbol == 'MSFT']\n",
    "df.drop(['symbol'],1,inplace=True)\n",
    "df.head()"
   ]
  },
  {
   "cell_type": "code",
   "execution_count": 5,
   "metadata": {},
   "outputs": [
    {
     "data": {
      "text/html": [
       "<div>\n",
       "<style scoped>\n",
       "    .dataframe tbody tr th:only-of-type {\n",
       "        vertical-align: middle;\n",
       "    }\n",
       "\n",
       "    .dataframe tbody tr th {\n",
       "        vertical-align: top;\n",
       "    }\n",
       "\n",
       "    .dataframe thead th {\n",
       "        text-align: right;\n",
       "    }\n",
       "</style>\n",
       "<table border=\"1\" class=\"dataframe\">\n",
       "  <thead>\n",
       "    <tr style=\"text-align: right;\">\n",
       "      <th></th>\n",
       "      <th>open</th>\n",
       "      <th>low</th>\n",
       "      <th>high</th>\n",
       "      <th>volume</th>\n",
       "      <th>adj close</th>\n",
       "    </tr>\n",
       "    <tr>\n",
       "      <th>date</th>\n",
       "      <th></th>\n",
       "      <th></th>\n",
       "      <th></th>\n",
       "      <th></th>\n",
       "      <th></th>\n",
       "    </tr>\n",
       "  </thead>\n",
       "  <tbody>\n",
       "    <tr>\n",
       "      <th>2010-01-04</th>\n",
       "      <td>0.184785</td>\n",
       "      <td>0.193215</td>\n",
       "      <td>0.190780</td>\n",
       "      <td>0.096490</td>\n",
       "      <td>0.195518</td>\n",
       "    </tr>\n",
       "    <tr>\n",
       "      <th>2010-01-05</th>\n",
       "      <td>0.190429</td>\n",
       "      <td>0.194444</td>\n",
       "      <td>0.190780</td>\n",
       "      <td>0.132965</td>\n",
       "      <td>0.195765</td>\n",
       "    </tr>\n",
       "    <tr>\n",
       "      <th>2010-01-06</th>\n",
       "      <td>0.191166</td>\n",
       "      <td>0.191495</td>\n",
       "      <td>0.190289</td>\n",
       "      <td>0.160088</td>\n",
       "      <td>0.191086</td>\n",
       "    </tr>\n",
       "    <tr>\n",
       "      <th>2010-01-07</th>\n",
       "      <td>0.185031</td>\n",
       "      <td>0.183383</td>\n",
       "      <td>0.180971</td>\n",
       "      <td>0.135571</td>\n",
       "      <td>0.183206</td>\n",
       "    </tr>\n",
       "    <tr>\n",
       "      <th>2010-01-08</th>\n",
       "      <td>0.176442</td>\n",
       "      <td>0.184612</td>\n",
       "      <td>0.185385</td>\n",
       "      <td>0.137622</td>\n",
       "      <td>0.188377</td>\n",
       "    </tr>\n",
       "  </tbody>\n",
       "</table>\n",
       "</div>"
      ],
      "text/plain": [
       "                open       low      high    volume  adj close\n",
       "date                                                         \n",
       "2010-01-04  0.184785  0.193215  0.190780  0.096490   0.195518\n",
       "2010-01-05  0.190429  0.194444  0.190780  0.132965   0.195765\n",
       "2010-01-06  0.191166  0.191495  0.190289  0.160088   0.191086\n",
       "2010-01-07  0.185031  0.183383  0.180971  0.135571   0.183206\n",
       "2010-01-08  0.176442  0.184612  0.185385  0.137622   0.188377"
      ]
     },
     "execution_count": 5,
     "metadata": {},
     "output_type": "execute_result"
    }
   ],
   "source": [
    "def normalize_data(df):\n",
    "    min_max_scaler = preprocessing.MinMaxScaler()\n",
    "    df['open'] = min_max_scaler.fit_transform(df.open.values.reshape(-1,1))\n",
    "    df['high'] = min_max_scaler.fit_transform(df.high.values.reshape(-1,1))\n",
    "    df['low'] = min_max_scaler.fit_transform(df.low.values.reshape(-1,1))\n",
    "    df['volume'] = min_max_scaler.fit_transform(df.volume.values.reshape(-1,1))\n",
    "    df['adj close'] = min_max_scaler.fit_transform(df['adj close'].values.reshape(-1,1))\n",
    "    return df\n",
    "df = normalize_data(df)\n",
    "df.head()"
   ]
  },
  {
   "cell_type": "code",
   "execution_count": 6,
   "metadata": {},
   "outputs": [],
   "source": [
    "def load_data(stock, seq_len):\n",
    "    amount_of_features = len(stock.columns) \n",
    "    data = stock.as_matrix() \n",
    "    sequence_length = seq_len + 1\n",
    "    result = []\n",
    "    \n",
    "    for index in range(len(data) - sequence_length): \n",
    "        result.append(data[index: index + sequence_length]) \n",
    "    \n",
    "    result = np.array(result)\n",
    "    row = round(0.9 * result.shape[0]) \n",
    "    train = result[:int(row), :] \n",
    "    \n",
    "    x_train = train[:, :-1] \n",
    "    y_train = train[:, -1][:,-1]\n",
    "    \n",
    "    x_test = result[int(row):, :-1] \n",
    "    y_test = result[int(row):, -1][:,-1]\n",
    "\n",
    "    x_train = np.reshape(x_train, (x_train.shape[0], x_train.shape[1], amount_of_features))\n",
    "    x_test = np.reshape(x_test, (x_test.shape[0], x_test.shape[1], amount_of_features))  \n",
    "\n",
    "    return [x_train, y_train, x_test, y_test]"
   ]
  },
  {
   "cell_type": "code",
   "execution_count": 7,
   "metadata": {},
   "outputs": [],
   "source": [
    "def build_model(layers):\n",
    "    d = 0.2\n",
    "    model = Sequential()\n",
    "    model.add(LSTM(256, input_shape=(layers[1], layers[0]), return_sequences=True))\n",
    "    model.add(Dropout(d))\n",
    "    model.add(LSTM(256, input_shape=(layers[1], layers[0]), return_sequences=False))\n",
    "    model.add(Dropout(d))   \n",
    "    model.add(Dense(32,kernel_initializer=\"uniform\",activation='relu'))        \n",
    "    model.add(Dense(1,kernel_initializer=\"uniform\",activation='linear'))  \n",
    "    start = time.time()\n",
    "    model.compile(loss='mse',optimizer='adam', metrics=['accuracy'])\n",
    "    print(\"Compilation Time : \", time.time() - start)\n",
    "    return model"
   ]
  },
  {
   "cell_type": "code",
   "execution_count": 8,
   "metadata": {},
   "outputs": [
    {
     "name": "stderr",
     "output_type": "stream",
     "text": [
      "C:\\Users\\Aadesh\\Anaconda3\\lib\\site-packages\\ipykernel_launcher.py:3: FutureWarning: Method .as_matrix will be removed in a future version. Use .values instead.\n",
      "  This is separate from the ipykernel package so we can avoid doing imports until\n"
     ]
    }
   ],
   "source": [
    "window = 30\n",
    "X_train, y_train, X_test, y_test = load_data(df, window)"
   ]
  },
  {
   "cell_type": "code",
   "execution_count": 9,
   "metadata": {},
   "outputs": [
    {
     "name": "stdout",
     "output_type": "stream",
     "text": [
      "Compilation Time :  0.019946813583374023\n"
     ]
    },
    {
     "data": {
      "image/png": "[encoded data removed]",
      "text/plain": [
       "<IPython.core.display.Image object>"
      ]
     },
     "execution_count": 9,
     "metadata": {},
     "output_type": "execute_result"
    }
   ],
   "source": [
    "model = build_model([5,window,1])\n",
    "plot_model(model)"
   ]
  },
  {
   "cell_type": "code",
   "execution_count": 10,
   "metadata": {
    "scrolled": true
   },
   "outputs": [
    {
     "name": "stdout",
     "output_type": "stream",
     "text": [
      "Train on 1402 samples, validate on 156 samples\n",
      "Epoch 1/100\n",
      "1402/1402 [==============================] - 5s 4ms/step - loss: 0.0946 - accuracy: 7.1327e-04 - val_loss: 0.4191 - val_accuracy: 0.0000e+00\n",
      "Epoch 2/100\n",
      "1402/1402 [==============================] - 3s 2ms/step - loss: 0.0546 - accuracy: 7.1327e-04 - val_loss: 0.1057 - val_accuracy: 0.0000e+00\n",
      "Epoch 3/100\n",
      "1402/1402 [==============================] - 3s 2ms/step - loss: 0.0322 - accuracy: 7.1327e-04 - val_loss: 0.1260 - val_accuracy: 0.0000e+00\n",
      "Epoch 4/100\n",
      "1402/1402 [==============================] - 3s 2ms/step - loss: 0.0166 - accuracy: 7.1327e-04 - val_loss: 0.1644 - val_accuracy: 0.0000e+00\n",
      "Epoch 5/100\n",
      "1402/1402 [==============================] - 3s 2ms/step - loss: 0.0139 - accuracy: 7.1327e-04 - val_loss: 0.0531 - val_accuracy: 0.0000e+00\n",
      "Epoch 6/100\n",
      "1402/1402 [==============================] - 3s 2ms/step - loss: 0.0076 - accuracy: 7.1327e-04 - val_loss: 0.0257 - val_accuracy: 0.0000e+00\n",
      "Epoch 7/100\n",
      "1402/1402 [==============================] - 3s 2ms/step - loss: 0.0034 - accuracy: 7.1327e-04 - val_loss: 0.0516 - val_accuracy: 0.0000e+00\n",
      "Epoch 8/100\n",
      "1402/1402 [==============================] - 4s 3ms/step - loss: 0.0055 - accuracy: 7.1327e-04 - val_loss: 0.0192 - val_accuracy: 0.0000e+00\n",
      "Epoch 9/100\n",
      "1402/1402 [==============================] - 4s 3ms/step - loss: 0.0033 - accuracy: 7.1327e-04 - val_loss: 0.0117 - val_accuracy: 0.0000e+00\n",
      "Epoch 10/100\n",
      "1402/1402 [==============================] - 4s 3ms/step - loss: 0.0025 - accuracy: 7.1327e-04 - val_loss: 0.0340 - val_accuracy: 0.0000e+00\n",
      "Epoch 11/100\n",
      "1402/1402 [==============================] - 3s 2ms/step - loss: 0.0026 - accuracy: 7.1327e-04 - val_loss: 0.0340 - val_accuracy: 0.0000e+00\n",
      "Epoch 12/100\n",
      "1402/1402 [==============================] - 3s 2ms/step - loss: 0.0018 - accuracy: 7.1327e-04 - val_loss: 0.0200 - val_accuracy: 0.0000e+00\n",
      "Epoch 13/100\n",
      "1402/1402 [==============================] - 3s 2ms/step - loss: 0.0021 - accuracy: 7.1327e-04 - val_loss: 0.0228 - val_accuracy: 0.0000e+00\n",
      "Epoch 14/100\n",
      "1402/1402 [==============================] - 3s 2ms/step - loss: 0.0015 - accuracy: 7.1327e-04 - val_loss: 0.0242 - val_accuracy: 0.0000e+00\n",
      "Epoch 15/100\n",
      "1402/1402 [==============================] - 3s 2ms/step - loss: 0.0014 - accuracy: 7.1327e-04 - val_loss: 0.0122 - val_accuracy: 0.0000e+00\n",
      "Epoch 16/100\n",
      "1402/1402 [==============================] - 4s 3ms/step - loss: 0.0014 - accuracy: 7.1327e-04 - val_loss: 0.0118 - val_accuracy: 0.0000e+00\n",
      "Epoch 17/100\n",
      "1402/1402 [==============================] - 3s 2ms/step - loss: 0.0013 - accuracy: 7.1327e-04 - val_loss: 0.0156 - val_accuracy: 0.0000e+00\n",
      "Epoch 18/100\n",
      "1402/1402 [==============================] - 3s 2ms/step - loss: 0.0013 - accuracy: 7.1327e-04 - val_loss: 0.0115 - val_accuracy: 0.0000e+00\n",
      "Epoch 19/100\n",
      "1402/1402 [==============================] - 4s 3ms/step - loss: 0.0013 - accuracy: 7.1327e-04 - val_loss: 0.0135 - val_accuracy: 0.0000e+00\n",
      "Epoch 20/100\n",
      "1402/1402 [==============================] - 3s 2ms/step - loss: 0.0012 - accuracy: 7.1327e-04 - val_loss: 0.0149 - val_accuracy: 0.0000e+00\n",
      "Epoch 21/100\n",
      "1402/1402 [==============================] - 3s 2ms/step - loss: 0.0012 - accuracy: 7.1327e-04 - val_loss: 0.0118 - val_accuracy: 0.0000e+00\n",
      "Epoch 22/100\n",
      "1402/1402 [==============================] - 3s 2ms/step - loss: 0.0012 - accuracy: 7.1327e-04 - val_loss: 0.0119 - val_accuracy: 0.0000e+00\n",
      "Epoch 23/100\n",
      "1402/1402 [==============================] - 3s 2ms/step - loss: 0.0012 - accuracy: 7.1327e-04 - val_loss: 0.0112 - val_accuracy: 0.0000e+00\n",
      "Epoch 24/100\n",
      "1402/1402 [==============================] - 3s 2ms/step - loss: 0.0012 - accuracy: 7.1327e-04 - val_loss: 0.0108 - val_accuracy: 0.0000e+00\n",
      "Epoch 25/100\n",
      "1402/1402 [==============================] - 3s 2ms/step - loss: 0.0012 - accuracy: 7.1327e-04 - val_loss: 0.0116 - val_accuracy: 0.0000e+00\n",
      "Epoch 26/100\n",
      "1402/1402 [==============================] - 3s 2ms/step - loss: 0.0011 - accuracy: 7.1327e-04 - val_loss: 0.0117 - val_accuracy: 0.0000e+00\n",
      "Epoch 27/100\n",
      "1402/1402 [==============================] - 3s 2ms/step - loss: 0.0011 - accuracy: 7.1327e-04 - val_loss: 0.0119 - val_accuracy: 0.0000e+00\n",
      "Epoch 28/100\n",
      "1402/1402 [==============================] - 3s 2ms/step - loss: 0.0011 - accuracy: 7.1327e-04 - val_loss: 0.0125 - val_accuracy: 0.0000e+00\n",
      "Epoch 29/100\n",
      "1402/1402 [==============================] - 4s 3ms/step - loss: 0.0011 - accuracy: 7.1327e-04 - val_loss: 0.0113 - val_accuracy: 0.0000e+00\n",
      "Epoch 30/100\n",
      "1402/1402 [==============================] - 4s 3ms/step - loss: 0.0011 - accuracy: 7.1327e-04 - val_loss: 0.0106 - val_accuracy: 0.0000e+00\n",
      "Epoch 31/100\n",
      "1402/1402 [==============================] - 3s 2ms/step - loss: 0.0010 - accuracy: 7.1327e-04 - val_loss: 0.0108 - val_accuracy: 0.0000e+00\n",
      "Epoch 32/100\n",
      "1402/1402 [==============================] - 4s 3ms/step - loss: 0.0011 - accuracy: 7.1327e-04 - val_loss: 0.0107 - val_accuracy: 0.0000e+00\n",
      "Epoch 33/100\n",
      "1402/1402 [==============================] - 3s 2ms/step - loss: 0.0011 - accuracy: 7.1327e-04 - val_loss: 0.0103 - val_accuracy: 0.0000e+00\n",
      "Epoch 34/100\n",
      "1402/1402 [==============================] - 3s 2ms/step - loss: 0.0010 - accuracy: 7.1327e-04 - val_loss: 0.0102 - val_accuracy: 0.0000e+00\n",
      "Epoch 35/100\n",
      "1402/1402 [==============================] - 3s 2ms/step - loss: 0.0010 - accuracy: 7.1327e-04 - val_loss: 0.0100 - val_accuracy: 0.0000e+00\n",
      "Epoch 36/100\n",
      "1402/1402 [==============================] - 4s 3ms/step - loss: 0.0010 - accuracy: 7.1327e-04 - val_loss: 0.0096 - val_accuracy: 0.0000e+00\n",
      "Epoch 37/100\n",
      "1402/1402 [==============================] - 4s 3ms/step - loss: 9.9804e-04 - accuracy: 7.1327e-04 - val_loss: 0.0094 - val_accuracy: 0.0000e+00\n",
      "Epoch 38/100\n",
      "1402/1402 [==============================] - 4s 3ms/step - loss: 0.0010 - accuracy: 7.1327e-04 - val_loss: 0.0083 - val_accuracy: 0.0000e+00\n",
      "Epoch 39/100\n",
      "1402/1402 [==============================] - 3s 2ms/step - loss: 9.7442e-04 - accuracy: 7.1327e-04 - val_loss: 0.0100 - val_accuracy: 0.0000e+00\n",
      "Epoch 40/100\n",
      "1402/1402 [==============================] - 4s 3ms/step - loss: 9.5548e-04 - accuracy: 7.1327e-04 - val_loss: 0.0072 - val_accuracy: 0.0000e+00\n",
      "Epoch 41/100\n",
      "1402/1402 [==============================] - 3s 2ms/step - loss: 9.8005e-04 - accuracy: 7.1327e-04 - val_loss: 0.0105 - val_accuracy: 0.0000e+00\n",
      "Epoch 42/100\n",
      "1402/1402 [==============================] - 3s 2ms/step - loss: 9.4739e-04 - accuracy: 7.1327e-04 - val_loss: 0.0070 - val_accuracy: 0.0000e+00\n",
      "Epoch 43/100\n",
      "1402/1402 [==============================] - 3s 2ms/step - loss: 9.6151e-04 - accuracy: 7.1327e-04 - val_loss: 0.0107 - val_accuracy: 0.0000e+00\n",
      "Epoch 44/100\n",
      "1402/1402 [==============================] - 3s 2ms/step - loss: 9.4888e-04 - accuracy: 7.1327e-04 - val_loss: 0.0059 - val_accuracy: 0.0000e+00\n",
      "Epoch 45/100\n",
      "1402/1402 [==============================] - 3s 2ms/step - loss: 0.0010 - accuracy: 7.1327e-04 - val_loss: 0.0105 - val_accuracy: 0.0000e+00\n",
      "Epoch 46/100\n",
      "1402/1402 [==============================] - 3s 2ms/step - loss: 9.1299e-04 - accuracy: 7.1327e-04 - val_loss: 0.0068 - val_accuracy: 0.0000e+00\n",
      "Epoch 47/100\n",
      "1402/1402 [==============================] - 3s 2ms/step - loss: 8.8505e-04 - accuracy: 7.1327e-04 - val_loss: 0.0101 - val_accuracy: 0.0000e+00\n",
      "Epoch 48/100\n",
      "1402/1402 [==============================] - 3s 2ms/step - loss: 9.1139e-04 - accuracy: 7.1327e-04 - val_loss: 0.0073 - val_accuracy: 0.0000e+00\n",
      "Epoch 49/100\n",
      "1402/1402 [==============================] - 3s 2ms/step - loss: 9.3034e-04 - accuracy: 7.1327e-04 - val_loss: 0.0079 - val_accuracy: 0.0000e+00\n",
      "Epoch 50/100\n",
      "1402/1402 [==============================] - 4s 3ms/step - loss: 9.1051e-04 - accuracy: 7.1327e-04 - val_loss: 0.0093 - val_accuracy: 0.0000e+00\n",
      "Epoch 51/100\n",
      "1402/1402 [==============================] - 4s 3ms/step - loss: 8.7813e-04 - accuracy: 7.1327e-04 - val_loss: 0.0057 - val_accuracy: 0.0000e+00\n",
      "Epoch 52/100\n",
      "1402/1402 [==============================] - 4s 3ms/step - loss: 9.7272e-04 - accuracy: 7.1327e-04 - val_loss: 0.0103 - val_accuracy: 0.0000e+00\n",
      "Epoch 53/100\n",
      "1402/1402 [==============================] - 5s 4ms/step - loss: 8.9288e-04 - accuracy: 7.1327e-04 - val_loss: 0.0075 - val_accuracy: 0.0000e+00\n",
      "Epoch 54/100\n",
      "1402/1402 [==============================] - 6s 4ms/step - loss: 8.2450e-04 - accuracy: 7.1327e-04 - val_loss: 0.0064 - val_accuracy: 0.0000e+00\n",
      "Epoch 55/100\n",
      "1402/1402 [==============================] - 5s 3ms/step - loss: 8.3606e-04 - accuracy: 7.1327e-04 - val_loss: 0.0073 - val_accuracy: 0.0000e+00\n",
      "Epoch 56/100\n",
      "1402/1402 [==============================] - 4s 3ms/step - loss: 7.9070e-04 - accuracy: 7.1327e-04 - val_loss: 0.0068 - val_accuracy: 0.0000e+00\n",
      "Epoch 57/100\n",
      "1402/1402 [==============================] - 4s 3ms/step - loss: 7.8785e-04 - accuracy: 7.1327e-04 - val_loss: 0.0072 - val_accuracy: 0.0000e+00\n",
      "Epoch 58/100\n",
      "1402/1402 [==============================] - 3s 2ms/step - loss: 8.1988e-04 - accuracy: 7.1327e-04 - val_loss: 0.0073 - val_accuracy: 0.0000e+00\n",
      "Epoch 59/100\n",
      "1402/1402 [==============================] - 4s 3ms/step - loss: 8.0527e-04 - accuracy: 7.1327e-04 - val_loss: 0.0094 - val_accuracy: 0.0000e+00\n",
      "Epoch 60/100\n",
      "1402/1402 [==============================] - 4s 3ms/step - loss: 8.0176e-04 - accuracy: 7.1327e-04 - val_loss: 0.0059 - val_accuracy: 0.0000e+00\n",
      "Epoch 61/100\n",
      "1402/1402 [==============================] - 4s 3ms/step - loss: 8.3144e-04 - accuracy: 7.1327e-04 - val_loss: 0.0067 - val_accuracy: 0.0000e+00\n",
      "Epoch 62/100\n",
      "1402/1402 [==============================] - 4s 3ms/step - loss: 8.0232e-04 - accuracy: 7.1327e-04 - val_loss: 0.0086 - val_accuracy: 0.0000e+00\n",
      "Epoch 63/100\n",
      "1402/1402 [==============================] - 4s 3ms/step - loss: 8.7055e-04 - accuracy: 7.1327e-04 - val_loss: 0.0099 - val_accuracy: 0.0000e+00\n",
      "Epoch 64/100\n",
      "1402/1402 [==============================] - 4s 3ms/step - loss: 8.3172e-04 - accuracy: 7.1327e-04 - val_loss: 0.0069 - val_accuracy: 0.0000e+00\n",
      "Epoch 65/100\n",
      "1402/1402 [==============================] - 3s 2ms/step - loss: 8.3619e-04 - accuracy: 7.1327e-04 - val_loss: 0.0072 - val_accuracy: 0.0000e+00\n",
      "Epoch 66/100\n",
      "1402/1402 [==============================] - 4s 3ms/step - loss: 7.9603e-04 - accuracy: 7.1327e-04 - val_loss: 0.0047 - val_accuracy: 0.0000e+00\n",
      "Epoch 67/100\n",
      "1402/1402 [==============================] - 5s 3ms/step - loss: 8.4285e-04 - accuracy: 7.1327e-04 - val_loss: 0.0090 - val_accuracy: 0.0000e+00\n",
      "Epoch 68/100\n",
      "1402/1402 [==============================] - 4s 3ms/step - loss: 7.6056e-04 - accuracy: 7.1327e-04 - val_loss: 0.0058 - val_accuracy: 0.0000e+00\n",
      "Epoch 69/100\n",
      "1402/1402 [==============================] - 4s 3ms/step - loss: 8.6853e-04 - accuracy: 7.1327e-04 - val_loss: 0.0057 - val_accuracy: 0.0000e+00\n",
      "Epoch 70/100\n",
      "1402/1402 [==============================] - 5s 3ms/step - loss: 7.8749e-04 - accuracy: 7.1327e-04 - val_loss: 0.0073 - val_accuracy: 0.0000e+00\n",
      "Epoch 71/100\n",
      "1402/1402 [==============================] - 4s 3ms/step - loss: 7.5847e-04 - accuracy: 7.1327e-04 - val_loss: 0.0084 - val_accuracy: 0.0000e+00\n",
      "Epoch 72/100\n",
      "1402/1402 [==============================] - 5s 3ms/step - loss: 7.7210e-04 - accuracy: 7.1327e-04 - val_loss: 0.0060 - val_accuracy: 0.0000e+00\n",
      "Epoch 73/100\n",
      "1402/1402 [==============================] - 4s 3ms/step - loss: 7.5102e-04 - accuracy: 7.1327e-04 - val_loss: 0.0059 - val_accuracy: 0.0000e+00\n",
      "Epoch 74/100\n",
      "1402/1402 [==============================] - 4s 3ms/step - loss: 7.7700e-04 - accuracy: 7.1327e-04 - val_loss: 0.0059 - val_accuracy: 0.0000e+00\n",
      "Epoch 75/100\n",
      "1402/1402 [==============================] - 4s 3ms/step - loss: 7.8106e-04 - accuracy: 7.1327e-04 - val_loss: 0.0082 - val_accuracy: 0.0000e+00\n",
      "Epoch 76/100\n",
      "1402/1402 [==============================] - 4s 3ms/step - loss: 7.8237e-04 - accuracy: 7.1327e-04 - val_loss: 0.0070 - val_accuracy: 0.0000e+00\n",
      "Epoch 77/100\n",
      "1402/1402 [==============================] - 4s 3ms/step - loss: 7.8026e-04 - accuracy: 7.1327e-04 - val_loss: 0.0060 - val_accuracy: 0.0000e+00\n",
      "Epoch 78/100\n",
      "1402/1402 [==============================] - 5s 3ms/step - loss: 7.4908e-04 - accuracy: 7.1327e-04 - val_loss: 0.0049 - val_accuracy: 0.0000e+00\n",
      "Epoch 79/100\n",
      "1402/1402 [==============================] - 4s 3ms/step - loss: 7.3171e-04 - accuracy: 7.1327e-04 - val_loss: 0.0057 - val_accuracy: 0.0000e+00\n",
      "Epoch 80/100\n",
      "1402/1402 [==============================] - 4s 3ms/step - loss: 7.3628e-04 - accuracy: 7.1327e-04 - val_loss: 0.0056 - val_accuracy: 0.0000e+00\n",
      "Epoch 81/100\n",
      "1402/1402 [==============================] - 4s 3ms/step - loss: 7.3325e-04 - accuracy: 7.1327e-04 - val_loss: 0.0054 - val_accuracy: 0.0000e+00\n",
      "Epoch 82/100\n",
      "1402/1402 [==============================] - 4s 3ms/step - loss: 7.1635e-04 - accuracy: 7.1327e-04 - val_loss: 0.0048 - val_accuracy: 0.0000e+00\n",
      "Epoch 83/100\n",
      "1402/1402 [==============================] - 3s 2ms/step - loss: 7.4533e-04 - accuracy: 7.1327e-04 - val_loss: 0.0040 - val_accuracy: 0.0000e+00\n",
      "Epoch 84/100\n",
      "1402/1402 [==============================] - 4s 3ms/step - loss: 7.5710e-04 - accuracy: 7.1327e-04 - val_loss: 0.0071 - val_accuracy: 0.0000e+00\n",
      "Epoch 85/100\n",
      "1402/1402 [==============================] - 4s 3ms/step - loss: 7.8238e-04 - accuracy: 7.1327e-04 - val_loss: 0.0074 - val_accuracy: 0.0000e+00\n",
      "Epoch 86/100\n",
      "1402/1402 [==============================] - 4s 3ms/step - loss: 7.6454e-04 - accuracy: 7.1327e-04 - val_loss: 0.0060 - val_accuracy: 0.0000e+00\n",
      "Epoch 87/100\n",
      "1402/1402 [==============================] - 4s 3ms/step - loss: 7.1916e-04 - accuracy: 7.1327e-04 - val_loss: 0.0037 - val_accuracy: 0.0000e+00\n",
      "Epoch 88/100\n",
      "1402/1402 [==============================] - 4s 3ms/step - loss: 8.2361e-04 - accuracy: 7.1327e-04 - val_loss: 0.0054 - val_accuracy: 0.0000e+00\n",
      "Epoch 89/100\n",
      "1402/1402 [==============================] - 4s 3ms/step - loss: 7.8066e-04 - accuracy: 7.1327e-04 - val_loss: 0.0067 - val_accuracy: 0.0000e+00\n",
      "Epoch 90/100\n",
      "1402/1402 [==============================] - 5s 3ms/step - loss: 7.1369e-04 - accuracy: 7.1327e-04 - val_loss: 0.0048 - val_accuracy: 0.0000e+00\n",
      "Epoch 91/100\n",
      "1402/1402 [==============================] - 4s 3ms/step - loss: 7.2668e-04 - accuracy: 7.1327e-04 - val_loss: 0.0054 - val_accuracy: 0.0000e+00\n",
      "Epoch 92/100\n",
      "1402/1402 [==============================] - 4s 3ms/step - loss: 6.9645e-04 - accuracy: 7.1327e-04 - val_loss: 0.0053 - val_accuracy: 0.0000e+00\n",
      "Epoch 93/100\n",
      "1402/1402 [==============================] - 4s 3ms/step - loss: 6.8727e-04 - accuracy: 7.1327e-04 - val_loss: 0.0048 - val_accuracy: 0.0000e+00\n",
      "Epoch 94/100\n",
      "1402/1402 [==============================] - 4s 3ms/step - loss: 6.8976e-04 - accuracy: 7.1327e-04 - val_loss: 0.0058 - val_accuracy: 0.0000e+00\n",
      "Epoch 95/100\n",
      "1402/1402 [==============================] - 4s 3ms/step - loss: 7.2711e-04 - accuracy: 7.1327e-04 - val_loss: 0.0047 - val_accuracy: 0.0000e+00\n",
      "Epoch 96/100\n",
      "1402/1402 [==============================] - 4s 3ms/step - loss: 6.8690e-04 - accuracy: 7.1327e-04 - val_loss: 0.0042 - val_accuracy: 0.0000e+00\n",
      "Epoch 97/100\n",
      "1402/1402 [==============================] - 4s 3ms/step - loss: 7.2847e-04 - accuracy: 7.1327e-04 - val_loss: 0.0050 - val_accuracy: 0.0000e+00\n",
      "Epoch 98/100\n",
      "1402/1402 [==============================] - 4s 3ms/step - loss: 6.9774e-04 - accuracy: 7.1327e-04 - val_loss: 0.0045 - val_accuracy: 0.0000e+00\n",
      "Epoch 99/100\n",
      "1402/1402 [==============================] - 4s 3ms/step - loss: 6.9787e-04 - accuracy: 7.1327e-04 - val_loss: 0.0050 - val_accuracy: 0.0000e+00\n",
      "Epoch 100/100\n",
      "1402/1402 [==============================] - 4s 3ms/step - loss: 7.0212e-04 - accuracy: 7.1327e-04 - val_loss: 0.0046 - val_accuracy: 0.0000e+00\n"
     ]
    },
    {
     "data": {
      "text/plain": [
       "<keras.callbacks.callbacks.History at 0x2583a02ca08>"
      ]
     },
     "execution_count": 10,
     "metadata": {},
     "output_type": "execute_result"
    }
   ],
   "source": [
    "\n",
    "model.fit(X_train,y_train,batch_size=512,epochs=100,validation_split=0.1,verbose=1)"
   ]
  },
  {
   "cell_type": "code",
   "execution_count": 51,
   "metadata": {},
   "outputs": [
    {
     "name": "stdout",
     "output_type": "stream",
     "text": [
      "(173, 1)\n"
     ]
    }
   ],
   "source": [
    "diff=[]\n",
    "ratio=[]\n",
    "p = model.predict(X_test)\n",
    "print (p.shape)\n",
    "for u in range(len(y_test)):\n",
    "    pr = p[u][0]\n",
    "    ratio.append((y_test[u]/pr)-1)\n",
    "    diff.append(abs(y_test[u]- pr))"
   ]
  },
  {
   "cell_type": "code",
   "execution_count": 52,
   "metadata": {},
   "outputs": [
    {
     "name": "stdout",
     "output_type": "stream",
     "text": [
      "-3.33437457515074\n",
      "[0.7057791948318481, 0.6966055035591125, 0.6859327554702759, 0.6738239526748657, 0.6610602140426636, 0.6502888202667236, 0.6411488056182861, 0.6337184309959412, 0.6285082101821899, 0.6256076693534851, 0.6250894665718079, 0.6268490552902222, 0.6309160590171814, 0.636491060256958, 0.6427216529846191, 0.6489647626876831, 0.6541250348091125, 0.6576059460639954, 0.659076452255249, 0.6596336364746094, 0.6586542129516602, 0.6578545570373535, 0.6586019992828369, 0.6595900058746338, 0.6614164113998413, 0.6640018224716187, 0.6672089695930481, 0.670242965221405, 0.6723556518554688, 0.6742764115333557, 0.6756693124771118, 0.6762791872024536, 0.6758756637573242, 0.6742211580276489, 0.6684277057647705, 0.6614587306976318, 0.6541226506233215, 0.6473419666290283, 0.6414281129837036, 0.6371132135391235, 0.6348854303359985, 0.6349401473999023, 0.6373629570007324, 0.636728048324585, 0.6343267560005188, 0.6319103240966797, 0.6313698291778564, 0.6329361200332642, 0.6363869309425354, 0.6402960419654846, 0.6443860530853271, 0.6488847732543945, 0.653952956199646, 0.6599869132041931, 0.6666184663772583, 0.6737142205238342, 0.680797278881073, 0.6869529485702515, 0.6922796964645386, 0.695260763168335, 0.7001123428344727, 0.7057749032974243, 0.7118951082229614, 0.7182382345199585, 0.7244511842727661, 0.7291433811187744, 0.7318880558013916, 0.7338171601295471, 0.7349616885185242, 0.7353742122650146, 0.7356598377227783, 0.736035943031311, 0.7373672723770142, 0.7396134734153748, 0.7424415349960327, 0.745105504989624, 0.7476112842559814, 0.7493197917938232, 0.7508032321929932, 0.7508999109268188, 0.7503239512443542, 0.7493284940719604, 0.7480164170265198, 0.7467283010482788, 0.7460585832595825, 0.7456486225128174, 0.7457535266876221, 0.7463754415512085, 0.7474484443664551, 0.7482970952987671, 0.748261034488678, 0.7475313544273376, 0.7471802234649658, 0.7467518448829651, 0.7463513612747192, 0.7458757162094116, 0.7439278960227966, 0.7412769794464111, 0.738290548324585, 0.7352780103683472, 0.7329996824264526, 0.7319415807723999, 0.7319353222846985, 0.7325450778007507, 0.7341082692146301, 0.7368396520614624, 0.7396893501281738, 0.7414841651916504, 0.7431876063346863, 0.7454227209091187, 0.7470337152481079, 0.7479872703552246, 0.7483089566230774, 0.7479973435401917, 0.7477277517318726, 0.7475451827049255, 0.7474446296691895, 0.7478607892990112, 0.7474672794342041, 0.7461355328559875, 0.7441555261611938, 0.7427120804786682, 0.7413638234138489, 0.7409950494766235, 0.7409897446632385, 0.740354061126709, 0.7432700395584106, 0.7486840486526489, 0.7562170624732971, 0.76405930519104, 0.7709528803825378, 0.7760133743286133, 0.7797756195068359, 0.7816746234893799, 0.7819467782974243, 0.7806360125541687, 0.77740478515625, 0.7752512097358704, 0.7739984393119812, 0.7720640301704407, 0.769074559211731, 0.7652138471603394, 0.7608729600906372, 0.7573587894439697, 0.7554545402526855, 0.7564085721969604, 0.7591884136199951, 0.7632485628128052, 0.7684109807014465, 0.7732665538787842, 0.7773963212966919, 0.7807056307792664, 0.7836490273475647, 0.7851665019989014, 0.7842140197753906, 0.7815596461296082, 0.7791435122489929, 0.7769608497619629, 0.775615394115448, 0.7758001685142517, 0.7773040533065796, 0.780271053314209, 0.7846729755401611, 0.7897522449493408, 0.7944915294647217, 0.7982604503631592, 0.8020763993263245, 0.8058458566665649, 0.8090713024139404, 0.811940610408783, 0.8136351704597473, 0.8146920204162598, 0.8145648837089539]\n"
     ]
    },
    {
     "data": {
      "text/plain": [
       "[<matplotlib.lines.Line2D at 0x258603a77c8>]"
      ]
     },
     "execution_count": 52,
     "metadata": {},
     "output_type": "execute_result"
    },
    {
     "data": {
      "image/png": "[encoded data removed]",
      "text/plain": [
       "<Figure size 432x288 with 1 Axes>"
      ]
     },
     "metadata": {
      "needs_background": "light"
     },
     "output_type": "display_data"
    }
   ],
   "source": [
    "print(r2_score(temp,y_test))\n",
    "print(temp)\n",
    "plt.plot(temp)\n",
    "plt.plot(y_test)"
   ]
  },
  {
   "cell_type": "code",
   "execution_count": 53,
   "metadata": {},
   "outputs": [],
   "source": [
    "df = pd.read_csv(\"prices.csv\", index_col = 0)\n",
    "df[\"adj close\"] = df.close\n",
    "df.drop(['close'], 1, inplace=True)\n",
    "df = df[df.symbol == 'MSFT']\n",
    "df.drop(['symbol'],1,inplace=True)\n",
    "def denormalize(df, normalized_value): \n",
    "    df = df['adj close'].values.reshape(-1,1)\n",
    "    normalized_value = normalized_value.reshape(-1,1)\n",
    "    min_max_scaler = preprocessing.MinMaxScaler()\n",
    "    a = min_max_scaler.fit_transform(df)\n",
    "    new = min_max_scaler.inverse_transform(normalized_value)\n",
    "    return new\n",
    "\n",
    "newp = denormalize(df, p)\n",
    "newy_test = denormalize(df, y_test)"
   ]
  },
  {
   "cell_type": "code",
   "execution_count": 54,
   "metadata": {},
   "outputs": [
    {
     "name": "stdout",
     "output_type": "stream",
     "text": [
      "Train Score: 0.00096 MSE (0.03 RMSE)\n",
      "Test Score: 0.01206 MSE (0.11 RMSE)\n",
      "\n"
     ]
    },
    {
     "data": {
      "text/plain": [
       "(0.0009576758284322601, 0.012055787564702117)"
      ]
     },
     "execution_count": 54,
     "metadata": {},
     "output_type": "execute_result"
    }
   ],
   "source": [
    "def model_score(model, X_train, y_train, X_test, y_test):\n",
    "    trainScore = model.evaluate(X_train, y_train, verbose=0)\n",
    "    print('Train Score: %.5f MSE (%.2f RMSE)' % (trainScore[0], math.sqrt(trainScore[0])))\n",
    "\n",
    "    testScore = model.evaluate(X_test, y_test, verbose=0)\n",
    "    print('Test Score: %.5f MSE (%.2f RMSE)' % (testScore[0], math.sqrt(testScore[0])))\n",
    "    print()\n",
    "    return trainScore[0], testScore[0]\n",
    "\n",
    "\n",
    "model_score(model, X_train, y_train, X_test, y_test)"
   ]
  },
  {
   "cell_type": "code",
   "execution_count": 55,
   "metadata": {},
   "outputs": [
    {
     "data": {
      "image/png": "[encoded data removed]",
      "text/plain": [
       "<Figure size 432x288 with 1 Axes>"
      ]
     },
     "metadata": {
      "needs_background": "light"
     },
     "output_type": "display_data"
    }
   ],
   "source": [
    "import matplotlib.pyplot as plt2\n",
    "\n",
    "plt2.plot(newp,color='blue', label='Prediction')\n",
    "plt2.plot(newy_test,color='red', label='Actual')\n",
    "plt2.legend(loc='best')\n",
    "plt2.xlabel('Index number - December,2016')\n",
    "plt2.ylabel('Prices')\n",
    "plt2.show()"
   ]
  },
  {
   "cell_type": "code",
   "execution_count": 56,
   "metadata": {},
   "outputs": [],
   "source": [
    "newy_test=newy_test[153:]\n",
    "newp=newp[153:]"
   ]
  },
  {
   "cell_type": "code",
   "execution_count": 57,
   "metadata": {},
   "outputs": [
    {
     "data": {
      "image/png": "[encoded data removed]",
      "text/plain": [
       "<Figure size 432x288 with 1 Axes>"
      ]
     },
     "metadata": {
      "needs_background": "light"
     },
     "output_type": "display_data"
    }
   ],
   "source": [
    "plt2.plot(newp,color='red', label='Prediction')\n",
    "plt2.plot(newy_test,color='blue', label='Actual')\n",
    "plt2.legend(loc='best')\n",
    "plt2.xlabel('Index number - December,2016')\n",
    "plt2.ylabel('Prices')\n",
    "plt2.show()"
   ]
  },
  {
   "cell_type": "code",
   "execution_count": 58,
   "metadata": {},
   "outputs": [
    {
     "data": {
      "text/plain": [
       "DatetimeIndex(['2016-12-01', '2016-12-02', '2016-12-03', '2016-12-04',\n",
       "               '2016-12-05', '2016-12-06', '2016-12-07', '2016-12-08',\n",
       "               '2016-12-09', '2016-12-10', '2016-12-11', '2016-12-12',\n",
       "               '2016-12-13', '2016-12-14', '2016-12-15', '2016-12-16',\n",
       "               '2016-12-17', '2016-12-18', '2016-12-19', '2016-12-20'],\n",
       "              dtype='datetime64[ns]', freq='D')"
      ]
     },
     "execution_count": 58,
     "metadata": {},
     "output_type": "execute_result"
    }
   ],
   "source": [
    "trange = pd.date_range('2016-12-1', periods=20, freq='d')\n",
    "trange"
   ]
  },
  {
   "cell_type": "code",
   "execution_count": 59,
   "metadata": {},
   "outputs": [
    {
     "data": {
      "text/html": [
       "<div>\n",
       "<style scoped>\n",
       "    .dataframe tbody tr th:only-of-type {\n",
       "        vertical-align: middle;\n",
       "    }\n",
       "\n",
       "    .dataframe tbody tr th {\n",
       "        vertical-align: top;\n",
       "    }\n",
       "\n",
       "    .dataframe thead th {\n",
       "        text-align: right;\n",
       "    }\n",
       "</style>\n",
       "<table border=\"1\" class=\"dataframe\">\n",
       "  <thead>\n",
       "    <tr style=\"text-align: right;\">\n",
       "      <th></th>\n",
       "      <th>forecast</th>\n",
       "    </tr>\n",
       "  </thead>\n",
       "  <tbody>\n",
       "    <tr>\n",
       "      <th>2016-12-01</th>\n",
       "      <td>54.895611</td>\n",
       "    </tr>\n",
       "    <tr>\n",
       "      <th>2016-12-02</th>\n",
       "      <td>54.856934</td>\n",
       "    </tr>\n",
       "    <tr>\n",
       "      <th>2016-12-03</th>\n",
       "      <td>54.749134</td>\n",
       "    </tr>\n",
       "    <tr>\n",
       "      <th>2016-12-04</th>\n",
       "      <td>54.651016</td>\n",
       "    </tr>\n",
       "    <tr>\n",
       "      <th>2016-12-05</th>\n",
       "      <td>54.562382</td>\n",
       "    </tr>\n",
       "    <tr>\n",
       "      <th>2016-12-06</th>\n",
       "      <td>54.507740</td>\n",
       "    </tr>\n",
       "    <tr>\n",
       "      <th>2016-12-07</th>\n",
       "      <td>54.515244</td>\n",
       "    </tr>\n",
       "    <tr>\n",
       "      <th>2016-12-08</th>\n",
       "      <td>54.576317</td>\n",
       "    </tr>\n",
       "    <tr>\n",
       "      <th>2016-12-09</th>\n",
       "      <td>54.696808</td>\n",
       "    </tr>\n",
       "    <tr>\n",
       "      <th>2016-12-10</th>\n",
       "      <td>54.875572</td>\n",
       "    </tr>\n",
       "    <tr>\n",
       "      <th>2016-12-11</th>\n",
       "      <td>55.081841</td>\n",
       "    </tr>\n",
       "    <tr>\n",
       "      <th>2016-12-12</th>\n",
       "      <td>55.274303</td>\n",
       "    </tr>\n",
       "    <tr>\n",
       "      <th>2016-12-13</th>\n",
       "      <td>55.427357</td>\n",
       "    </tr>\n",
       "    <tr>\n",
       "      <th>2016-12-14</th>\n",
       "      <td>55.582321</td>\n",
       "    </tr>\n",
       "    <tr>\n",
       "      <th>2016-12-15</th>\n",
       "      <td>55.735401</td>\n",
       "    </tr>\n",
       "    <tr>\n",
       "      <th>2016-12-16</th>\n",
       "      <td>55.866386</td>\n",
       "    </tr>\n",
       "    <tr>\n",
       "      <th>2016-12-17</th>\n",
       "      <td>55.982906</td>\n",
       "    </tr>\n",
       "    <tr>\n",
       "      <th>2016-12-18</th>\n",
       "      <td>56.051723</td>\n",
       "    </tr>\n",
       "    <tr>\n",
       "      <th>2016-12-19</th>\n",
       "      <td>56.094643</td>\n",
       "    </tr>\n",
       "    <tr>\n",
       "      <th>2016-12-20</th>\n",
       "      <td>56.089478</td>\n",
       "    </tr>\n",
       "  </tbody>\n",
       "</table>\n",
       "</div>"
      ],
      "text/plain": [
       "             forecast\n",
       "2016-12-01  54.895611\n",
       "2016-12-02  54.856934\n",
       "2016-12-03  54.749134\n",
       "2016-12-04  54.651016\n",
       "2016-12-05  54.562382\n",
       "2016-12-06  54.507740\n",
       "2016-12-07  54.515244\n",
       "2016-12-08  54.576317\n",
       "2016-12-09  54.696808\n",
       "2016-12-10  54.875572\n",
       "2016-12-11  55.081841\n",
       "2016-12-12  55.274303\n",
       "2016-12-13  55.427357\n",
       "2016-12-14  55.582321\n",
       "2016-12-15  55.735401\n",
       "2016-12-16  55.866386\n",
       "2016-12-17  55.982906\n",
       "2016-12-18  56.051723\n",
       "2016-12-19  56.094643\n",
       "2016-12-20  56.089478"
      ]
     },
     "execution_count": 59,
     "metadata": {},
     "output_type": "execute_result"
    }
   ],
   "source": [
    "Predict_df = pd.DataFrame(newp, index=trange)\n",
    "Predict_df.columns = ['forecast']\n",
    "Predict_df"
   ]
  },
  {
   "cell_type": "code",
   "execution_count": 60,
   "metadata": {},
   "outputs": [
    {
     "data": {
      "text/html": [
       "<div>\n",
       "<style scoped>\n",
       "    .dataframe tbody tr th:only-of-type {\n",
       "        vertical-align: middle;\n",
       "    }\n",
       "\n",
       "    .dataframe tbody tr th {\n",
       "        vertical-align: top;\n",
       "    }\n",
       "\n",
       "    .dataframe thead th {\n",
       "        text-align: right;\n",
       "    }\n",
       "</style>\n",
       "<table border=\"1\" class=\"dataframe\">\n",
       "  <thead>\n",
       "    <tr style=\"text-align: right;\">\n",
       "      <th></th>\n",
       "      <th>actual</th>\n",
       "    </tr>\n",
       "  </thead>\n",
       "  <tbody>\n",
       "    <tr>\n",
       "      <th>2016-12-01</th>\n",
       "      <td>59.200001</td>\n",
       "    </tr>\n",
       "    <tr>\n",
       "      <th>2016-12-02</th>\n",
       "      <td>59.250000</td>\n",
       "    </tr>\n",
       "    <tr>\n",
       "      <th>2016-12-03</th>\n",
       "      <td>60.220001</td>\n",
       "    </tr>\n",
       "    <tr>\n",
       "      <th>2016-12-04</th>\n",
       "      <td>59.950001</td>\n",
       "    </tr>\n",
       "    <tr>\n",
       "      <th>2016-12-05</th>\n",
       "      <td>61.369999</td>\n",
       "    </tr>\n",
       "    <tr>\n",
       "      <th>2016-12-06</th>\n",
       "      <td>61.009998</td>\n",
       "    </tr>\n",
       "    <tr>\n",
       "      <th>2016-12-07</th>\n",
       "      <td>61.970001</td>\n",
       "    </tr>\n",
       "    <tr>\n",
       "      <th>2016-12-08</th>\n",
       "      <td>62.169998</td>\n",
       "    </tr>\n",
       "    <tr>\n",
       "      <th>2016-12-09</th>\n",
       "      <td>62.980000</td>\n",
       "    </tr>\n",
       "    <tr>\n",
       "      <th>2016-12-10</th>\n",
       "      <td>62.680000</td>\n",
       "    </tr>\n",
       "    <tr>\n",
       "      <th>2016-12-11</th>\n",
       "      <td>62.580002</td>\n",
       "    </tr>\n",
       "    <tr>\n",
       "      <th>2016-12-12</th>\n",
       "      <td>62.299999</td>\n",
       "    </tr>\n",
       "    <tr>\n",
       "      <th>2016-12-13</th>\n",
       "      <td>63.619999</td>\n",
       "    </tr>\n",
       "    <tr>\n",
       "      <th>2016-12-14</th>\n",
       "      <td>63.540001</td>\n",
       "    </tr>\n",
       "    <tr>\n",
       "      <th>2016-12-15</th>\n",
       "      <td>63.540001</td>\n",
       "    </tr>\n",
       "    <tr>\n",
       "      <th>2016-12-16</th>\n",
       "      <td>63.549999</td>\n",
       "    </tr>\n",
       "    <tr>\n",
       "      <th>2016-12-17</th>\n",
       "      <td>63.240002</td>\n",
       "    </tr>\n",
       "    <tr>\n",
       "      <th>2016-12-18</th>\n",
       "      <td>63.279999</td>\n",
       "    </tr>\n",
       "    <tr>\n",
       "      <th>2016-12-19</th>\n",
       "      <td>62.990002</td>\n",
       "    </tr>\n",
       "    <tr>\n",
       "      <th>2016-12-20</th>\n",
       "      <td>62.900002</td>\n",
       "    </tr>\n",
       "  </tbody>\n",
       "</table>\n",
       "</div>"
      ],
      "text/plain": [
       "               actual\n",
       "2016-12-01  59.200001\n",
       "2016-12-02  59.250000\n",
       "2016-12-03  60.220001\n",
       "2016-12-04  59.950001\n",
       "2016-12-05  61.369999\n",
       "2016-12-06  61.009998\n",
       "2016-12-07  61.970001\n",
       "2016-12-08  62.169998\n",
       "2016-12-09  62.980000\n",
       "2016-12-10  62.680000\n",
       "2016-12-11  62.580002\n",
       "2016-12-12  62.299999\n",
       "2016-12-13  63.619999\n",
       "2016-12-14  63.540001\n",
       "2016-12-15  63.540001\n",
       "2016-12-16  63.549999\n",
       "2016-12-17  63.240002\n",
       "2016-12-18  63.279999\n",
       "2016-12-19  62.990002\n",
       "2016-12-20  62.900002"
      ]
     },
     "execution_count": 60,
     "metadata": {},
     "output_type": "execute_result"
    }
   ],
   "source": [
    "actual_df = pd.DataFrame(newy_test, index=trange)\n",
    "actual_df.columns = ['actual']\n",
    "actual_df"
   ]
  },
  {
   "cell_type": "code",
   "execution_count": 61,
   "metadata": {},
   "outputs": [
    {
     "data": {
      "image/png": "[encoded data removed]",
      "text/plain": [
       "<Figure size 432x288 with 1 Axes>"
      ]
     },
     "metadata": {
      "needs_background": "light"
     },
     "output_type": "display_data"
    }
   ],
   "source": [
    "Predict_df.plot(color='cyan', linewidth=3)\n",
    "plt.xlabel('Time')\n",
    "plt.ylabel('Price')\n",
    "plt.show()"
   ]
  },
  {
   "cell_type": "code",
   "execution_count": 62,
   "metadata": {},
   "outputs": [
    {
     "data": {
      "image/png": "[encoded data removed]",
      "text/plain": [
       "<Figure size 432x288 with 1 Axes>"
      ]
     },
     "metadata": {
      "needs_background": "light"
     },
     "output_type": "display_data"
    }
   ],
   "source": [
    "actual_df.plot(color='green', linewidth=3)\n",
    "plt.xlabel('Time')\n",
    "plt.ylabel('Price')\n",
    "plt.show()"
   ]
  }
 ],
 "metadata": {
  "kernelspec": {
   "display_name": "Python 3",
   "language": "python",
   "name": "python3"
  },
  "language_info": {
   "codemirror_mode": {
    "name": "ipython",
    "version": 3
   },
   "file_extension": ".py",
   "mimetype": "text/x-python",
   "name": "python",
   "nbconvert_exporter": "python",
   "pygments_lexer": "ipython3",
   "version": "3.7.4"
  }
 },
 "nbformat": 4,
 "nbformat_minor": 2
}
